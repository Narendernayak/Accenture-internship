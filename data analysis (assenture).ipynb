{
  "nbformat": 4,
  "nbformat_minor": 0,
  "metadata": {
    "kernelspec": {
      "display_name": "Python 3",
      "language": "python",
      "name": "python3"
    },
    "language_info": {
      "codemirror_mode": {
        "name": "ipython",
        "version": 3
      },
      "file_extension": ".py",
      "mimetype": "text/x-python",
      "name": "python",
      "nbconvert_exporter": "python",
      "pygments_lexer": "ipython3",
      "version": "3.7.5"
    },
    "colab": {
      "name": "Untitled.ipynb",
      "provenance": [],
      "include_colab_link": true
    }
  },
  "cells": [
    {
      "cell_type": "markdown",
      "metadata": {
        "id": "view-in-github",
        "colab_type": "text"
      },
      "source": [
        "<a href=\"https://colab.research.google.com/github/Narendernayak/Google_data_analysis/blob/master/data%20analysis%20(assenture).ipynb\" target=\"_parent\"><img src=\"https://colab.research.google.com/assets/colab-badge.svg\" alt=\"Open In Colab\"/></a>"
      ]
    },
    {
      "cell_type": "code",
      "metadata": {
        "id": "y4BrzJHLuBlX",
        "colab_type": "code",
        "colab": {
          "base_uri": "https://localhost:8080/",
          "height": 70
        },
        "outputId": "f9d01bce-21c9-41d9-bf7c-4189bc3f1a55"
      },
      "source": [
        "import numpy as np\n",
        "import pandas as pd\n",
        "import seaborn as ns\n"
      ],
      "execution_count": 1,
      "outputs": [
        {
          "output_type": "stream",
          "text": [
            "/usr/local/lib/python3.6/dist-packages/statsmodels/tools/_testing.py:19: FutureWarning: pandas.util.testing is deprecated. Use the functions in the public API at pandas.testing instead.\n",
            "  import pandas.util.testing as tm\n"
          ],
          "name": "stderr"
        }
      ]
    },
    {
      "cell_type": "markdown",
      "metadata": {
        "id": "bVQhMAk_uBlb",
        "colab_type": "text"
      },
      "source": [
        "#### Load dataset"
      ]
    },
    {
      "cell_type": "code",
      "metadata": {
        "id": "592fPCp4uBlc",
        "colab_type": "code",
        "colab": {}
      },
      "source": [
        "data1 = pd.read_csv('M3+Screen+Traffic+Data+vFinal.csv')                                    \n",
        "data2 = pd.read_csv('M3+Individual+Login+Data+vFinal.csv')"
      ],
      "execution_count": 0,
      "outputs": []
    },
    {
      "cell_type": "code",
      "metadata": {
        "id": "QhsxeocpuBlf",
        "colab_type": "code",
        "colab": {},
        "outputId": "402b445a-1902-454e-f4af-7cfabc786021"
      },
      "source": [
        "data1.head()"
      ],
      "execution_count": 0,
      "outputs": [
        {
          "output_type": "execute_result",
          "data": {
            "text/html": [
              "<div>\n",
              "<style scoped>\n",
              "    .dataframe tbody tr th:only-of-type {\n",
              "        vertical-align: middle;\n",
              "    }\n",
              "\n",
              "    .dataframe tbody tr th {\n",
              "        vertical-align: top;\n",
              "    }\n",
              "\n",
              "    .dataframe thead th {\n",
              "        text-align: right;\n",
              "    }\n",
              "</style>\n",
              "<table border=\"1\" class=\"dataframe\">\n",
              "  <thead>\n",
              "    <tr style=\"text-align: right;\">\n",
              "      <th></th>\n",
              "      <th>Unnamed: 0</th>\n",
              "      <th>Unnamed: 1</th>\n",
              "      <th>Unnamed: 2</th>\n",
              "      <th>Definitions</th>\n",
              "      <th>1-May-19</th>\n",
              "      <th>2-May-19</th>\n",
              "      <th>3-May-19</th>\n",
              "      <th>4-May-19</th>\n",
              "      <th>5-May-19</th>\n",
              "      <th>6-May-19</th>\n",
              "      <th>...</th>\n",
              "      <th>6-Jun-19</th>\n",
              "      <th>7-Jun-19</th>\n",
              "      <th>8-Jun-19</th>\n",
              "      <th>9-Jun-19</th>\n",
              "      <th>10-Jun-19</th>\n",
              "      <th>11-Jun-19</th>\n",
              "      <th>12-Jun-19</th>\n",
              "      <th>13-Jun-19</th>\n",
              "      <th>14-Jun-19</th>\n",
              "      <th>Unnamed: 49</th>\n",
              "    </tr>\n",
              "  </thead>\n",
              "  <tbody>\n",
              "    <tr>\n",
              "      <th>0</th>\n",
              "      <td>Overall Site</td>\n",
              "      <td>NaN</td>\n",
              "      <td>Impressions (count, overall site)</td>\n",
              "      <td>Individual visits to overall site, including r...</td>\n",
              "      <td>133</td>\n",
              "      <td>147</td>\n",
              "      <td>122</td>\n",
              "      <td>112</td>\n",
              "      <td>130</td>\n",
              "      <td>138</td>\n",
              "      <td>...</td>\n",
              "      <td>129</td>\n",
              "      <td>136</td>\n",
              "      <td>150</td>\n",
              "      <td>142</td>\n",
              "      <td>187</td>\n",
              "      <td>166</td>\n",
              "      <td>139</td>\n",
              "      <td>154</td>\n",
              "      <td>161</td>\n",
              "      <td>NaN</td>\n",
              "    </tr>\n",
              "    <tr>\n",
              "      <th>1</th>\n",
              "      <td>NaN</td>\n",
              "      <td>NaN</td>\n",
              "      <td>Bounce rate (landing page)</td>\n",
              "      <td>Number of students who access landing page and...</td>\n",
              "      <td>53%</td>\n",
              "      <td>48%</td>\n",
              "      <td>55%</td>\n",
              "      <td>54%</td>\n",
              "      <td>53%</td>\n",
              "      <td>54%</td>\n",
              "      <td>...</td>\n",
              "      <td>51%</td>\n",
              "      <td>51%</td>\n",
              "      <td>17%</td>\n",
              "      <td>18%</td>\n",
              "      <td>16%</td>\n",
              "      <td>16%</td>\n",
              "      <td>17%</td>\n",
              "      <td>18%</td>\n",
              "      <td>16%</td>\n",
              "      <td>NaN</td>\n",
              "    </tr>\n",
              "    <tr>\n",
              "      <th>2</th>\n",
              "      <td>NaN</td>\n",
              "      <td>NaN</td>\n",
              "      <td>Unique visitors</td>\n",
              "      <td>Number of visits from unique IPs</td>\n",
              "      <td>125</td>\n",
              "      <td>129</td>\n",
              "      <td>118</td>\n",
              "      <td>106</td>\n",
              "      <td>121</td>\n",
              "      <td>122</td>\n",
              "      <td>...</td>\n",
              "      <td>119</td>\n",
              "      <td>128</td>\n",
              "      <td>105</td>\n",
              "      <td>103</td>\n",
              "      <td>104</td>\n",
              "      <td>101</td>\n",
              "      <td>101</td>\n",
              "      <td>102</td>\n",
              "      <td>102</td>\n",
              "      <td>NaN</td>\n",
              "    </tr>\n",
              "    <tr>\n",
              "      <th>3</th>\n",
              "      <td>NaN</td>\n",
              "      <td>NaN</td>\n",
              "      <td>Average pages per visit</td>\n",
              "      <td>Average number of pages accessed per log-in</td>\n",
              "      <td>2.00</td>\n",
              "      <td>1.67</td>\n",
              "      <td>1.33</td>\n",
              "      <td>2.00</td>\n",
              "      <td>1.33</td>\n",
              "      <td>1.00</td>\n",
              "      <td>...</td>\n",
              "      <td>1.33</td>\n",
              "      <td>1.33</td>\n",
              "      <td>3.33</td>\n",
              "      <td>4.00</td>\n",
              "      <td>3.33</td>\n",
              "      <td>3.00</td>\n",
              "      <td>3.67</td>\n",
              "      <td>4.00</td>\n",
              "      <td>3.67</td>\n",
              "      <td>NaN</td>\n",
              "    </tr>\n",
              "    <tr>\n",
              "      <th>4</th>\n",
              "      <td>NaN</td>\n",
              "      <td>NaN</td>\n",
              "      <td>Successful Submissions</td>\n",
              "      <td>Percentage of submissions that are successful</td>\n",
              "      <td>47%</td>\n",
              "      <td>52%</td>\n",
              "      <td>47%</td>\n",
              "      <td>53%</td>\n",
              "      <td>42%</td>\n",
              "      <td>57%</td>\n",
              "      <td>...</td>\n",
              "      <td>50%</td>\n",
              "      <td>46%</td>\n",
              "      <td>80%</td>\n",
              "      <td>98%</td>\n",
              "      <td>98%</td>\n",
              "      <td>93%</td>\n",
              "      <td>95%</td>\n",
              "      <td>86%</td>\n",
              "      <td>93%</td>\n",
              "      <td>NaN</td>\n",
              "    </tr>\n",
              "  </tbody>\n",
              "</table>\n",
              "<p>5 rows × 50 columns</p>\n",
              "</div>"
            ],
            "text/plain": [
              "     Unnamed: 0 Unnamed: 1                         Unnamed: 2  \\\n",
              "0  Overall Site        NaN  Impressions (count, overall site)   \n",
              "1           NaN        NaN         Bounce rate (landing page)   \n",
              "2           NaN        NaN                    Unique visitors   \n",
              "3           NaN        NaN            Average pages per visit   \n",
              "4           NaN        NaN             Successful Submissions   \n",
              "\n",
              "                                         Definitions 1-May-19 2-May-19  \\\n",
              "0  Individual visits to overall site, including r...      133      147   \n",
              "1  Number of students who access landing page and...      53%      48%   \n",
              "2                   Number of visits from unique IPs      125      129   \n",
              "3        Average number of pages accessed per log-in     2.00     1.67   \n",
              "4      Percentage of submissions that are successful      47%      52%   \n",
              "\n",
              "  3-May-19 4-May-19 5-May-19 6-May-19  ... 6-Jun-19 7-Jun-19 8-Jun-19  \\\n",
              "0      122      112      130      138  ...      129      136      150   \n",
              "1      55%      54%      53%      54%  ...      51%      51%      17%   \n",
              "2      118      106      121      122  ...      119      128      105   \n",
              "3     1.33     2.00     1.33     1.00  ...     1.33     1.33     3.33   \n",
              "4      47%      53%      42%      57%  ...      50%      46%      80%   \n",
              "\n",
              "  9-Jun-19 10-Jun-19 11-Jun-19 12-Jun-19 13-Jun-19 14-Jun-19 Unnamed: 49  \n",
              "0      142       187       166       139       154       161         NaN  \n",
              "1      18%       16%       16%       17%       18%       16%         NaN  \n",
              "2      103       104       101       101       102       102         NaN  \n",
              "3     4.00      3.33      3.00      3.67      4.00      3.67         NaN  \n",
              "4      98%       98%       93%       95%       86%       93%         NaN  \n",
              "\n",
              "[5 rows x 50 columns]"
            ]
          },
          "metadata": {
            "tags": []
          },
          "execution_count": 3
        }
      ]
    },
    {
      "cell_type": "code",
      "metadata": {
        "id": "_dxNnJsWuBlj",
        "colab_type": "code",
        "colab": {},
        "outputId": "b31fdc0c-bfb6-4e55-be4a-2207c44bff95"
      },
      "source": [
        "data2.head()"
      ],
      "execution_count": 0,
      "outputs": [
        {
          "output_type": "execute_result",
          "data": {
            "text/html": [
              "<div>\n",
              "<style scoped>\n",
              "    .dataframe tbody tr th:only-of-type {\n",
              "        vertical-align: middle;\n",
              "    }\n",
              "\n",
              "    .dataframe tbody tr th {\n",
              "        vertical-align: top;\n",
              "    }\n",
              "\n",
              "    .dataframe thead th {\n",
              "        text-align: right;\n",
              "    }\n",
              "</style>\n",
              "<table border=\"1\" class=\"dataframe\">\n",
              "  <thead>\n",
              "    <tr style=\"text-align: right;\">\n",
              "      <th></th>\n",
              "      <th>Log-In date</th>\n",
              "      <th>Student login ID</th>\n",
              "      <th>University</th>\n",
              "      <th>Logged-in duration</th>\n",
              "      <th>Timed out due to dormancy</th>\n",
              "      <th>Documents Uploaded (Number)</th>\n",
              "      <th>Documents Uploaded (file size, Mb)</th>\n",
              "      <th>Submission</th>\n",
              "    </tr>\n",
              "  </thead>\n",
              "  <tbody>\n",
              "    <tr>\n",
              "      <th>0</th>\n",
              "      <td>5/1/2019</td>\n",
              "      <td>6563</td>\n",
              "      <td>TSU</td>\n",
              "      <td>01:38:17</td>\n",
              "      <td>No</td>\n",
              "      <td>0</td>\n",
              "      <td>0.00</td>\n",
              "      <td>No</td>\n",
              "    </tr>\n",
              "    <tr>\n",
              "      <th>1</th>\n",
              "      <td>5/1/2019</td>\n",
              "      <td>23287</td>\n",
              "      <td>RU</td>\n",
              "      <td>00:50:44</td>\n",
              "      <td>Yes</td>\n",
              "      <td>0</td>\n",
              "      <td>0.00</td>\n",
              "      <td>No</td>\n",
              "    </tr>\n",
              "    <tr>\n",
              "      <th>2</th>\n",
              "      <td>5/1/2019</td>\n",
              "      <td>82074664</td>\n",
              "      <td>ILU</td>\n",
              "      <td>01:03:12</td>\n",
              "      <td>Yes</td>\n",
              "      <td>4</td>\n",
              "      <td>13.82</td>\n",
              "      <td>Yes</td>\n",
              "    </tr>\n",
              "    <tr>\n",
              "      <th>3</th>\n",
              "      <td>5/1/2019</td>\n",
              "      <td>426932</td>\n",
              "      <td>Le Dean College</td>\n",
              "      <td>00:36:27</td>\n",
              "      <td>Yes</td>\n",
              "      <td>1</td>\n",
              "      <td>12.94</td>\n",
              "      <td>Yes</td>\n",
              "    </tr>\n",
              "    <tr>\n",
              "      <th>4</th>\n",
              "      <td>5/1/2019</td>\n",
              "      <td>42189</td>\n",
              "      <td>RU</td>\n",
              "      <td>00:47:21</td>\n",
              "      <td>No</td>\n",
              "      <td>2</td>\n",
              "      <td>9.26</td>\n",
              "      <td>Yes</td>\n",
              "    </tr>\n",
              "  </tbody>\n",
              "</table>\n",
              "</div>"
            ],
            "text/plain": [
              "  Log-In date  Student login ID        University Logged-in duration  \\\n",
              "0    5/1/2019               6563              TSU           01:38:17   \n",
              "1    5/1/2019              23287               RU           00:50:44   \n",
              "2    5/1/2019           82074664              ILU           01:03:12   \n",
              "3    5/1/2019             426932  Le Dean College           00:36:27   \n",
              "4    5/1/2019              42189               RU           00:47:21   \n",
              "\n",
              "  Timed out due to dormancy  Documents Uploaded (Number)  \\\n",
              "0                        No                            0   \n",
              "1                       Yes                            0   \n",
              "2                       Yes                            4   \n",
              "3                       Yes                            1   \n",
              "4                        No                            2   \n",
              "\n",
              "   Documents Uploaded (file size, Mb) Submission  \n",
              "0                                0.00         No  \n",
              "1                                0.00         No  \n",
              "2                               13.82        Yes  \n",
              "3                               12.94        Yes  \n",
              "4                                9.26        Yes  "
            ]
          },
          "metadata": {
            "tags": []
          },
          "execution_count": 4
        }
      ]
    },
    {
      "cell_type": "code",
      "metadata": {
        "id": "9lttQNYUuBll",
        "colab_type": "code",
        "colab": {},
        "outputId": "c479adda-8dd1-4387-b475-537cf984831a"
      },
      "source": [
        "data1.info()"
      ],
      "execution_count": 0,
      "outputs": [
        {
          "output_type": "stream",
          "text": [
            "<class 'pandas.core.frame.DataFrame'>\n",
            "RangeIndex: 30 entries, 0 to 29\n",
            "Data columns (total 50 columns):\n",
            "Unnamed: 0     3 non-null object\n",
            "Unnamed: 1     5 non-null object\n",
            "Unnamed: 2     30 non-null object\n",
            "Definitions    30 non-null object\n",
            "1-May-19       29 non-null object\n",
            "2-May-19       29 non-null object\n",
            "3-May-19       29 non-null object\n",
            "4-May-19       29 non-null object\n",
            "5-May-19       29 non-null object\n",
            "6-May-19       29 non-null object\n",
            "7-May-19       29 non-null object\n",
            "8-May-19       29 non-null object\n",
            "9-May-19       29 non-null object\n",
            "10-May-19      29 non-null object\n",
            "11-May-19      29 non-null object\n",
            "12-May-19      29 non-null object\n",
            "13-May-19      29 non-null object\n",
            "14-May-19      29 non-null object\n",
            "15-May-19      29 non-null object\n",
            "16-May-19      29 non-null object\n",
            "17-May-19      29 non-null object\n",
            "18-May-19      29 non-null object\n",
            "19-May-19      29 non-null object\n",
            "20-May-19      29 non-null object\n",
            "21-May-19      29 non-null object\n",
            "22-May-19      29 non-null object\n",
            "23-May-19      29 non-null object\n",
            "24-May-19      29 non-null object\n",
            "25-May-19      29 non-null object\n",
            "26-May-19      29 non-null object\n",
            "27-May-19      29 non-null object\n",
            "28-May-19      29 non-null object\n",
            "29-May-19      29 non-null object\n",
            "30-May-19      29 non-null object\n",
            "31-May-19      29 non-null object\n",
            "1-Jun-19       29 non-null object\n",
            "2-Jun-19       29 non-null object\n",
            "3-Jun-19       29 non-null object\n",
            "4-Jun-19       29 non-null object\n",
            "5-Jun-19       29 non-null object\n",
            "6-Jun-19       29 non-null object\n",
            "7-Jun-19       29 non-null object\n",
            "8-Jun-19       29 non-null object\n",
            "9-Jun-19       29 non-null object\n",
            "10-Jun-19      29 non-null object\n",
            "11-Jun-19      29 non-null object\n",
            "12-Jun-19      29 non-null object\n",
            "13-Jun-19      29 non-null object\n",
            "14-Jun-19      29 non-null object\n",
            "Unnamed: 49    0 non-null float64\n",
            "dtypes: float64(1), object(49)\n",
            "memory usage: 11.8+ KB\n"
          ],
          "name": "stdout"
        }
      ]
    },
    {
      "cell_type": "code",
      "metadata": {
        "id": "YUA1EyftuBlo",
        "colab_type": "code",
        "colab": {},
        "outputId": "7cad6418-a0ac-403c-f1a6-2ba1f4ed63e9"
      },
      "source": [
        "data2.info()"
      ],
      "execution_count": 0,
      "outputs": [
        {
          "output_type": "stream",
          "text": [
            "<class 'pandas.core.frame.DataFrame'>\n",
            "RangeIndex: 5847 entries, 0 to 5846\n",
            "Data columns (total 8 columns):\n",
            "Log-In date                           5847 non-null object\n",
            "Student login ID                      5847 non-null int64\n",
            "University                            5847 non-null object\n",
            "Logged-in duration                    5847 non-null object\n",
            "Timed out due to dormancy             5847 non-null object\n",
            "Documents Uploaded (Number)           5847 non-null int64\n",
            "Documents Uploaded (file size, Mb)    5847 non-null float64\n",
            "Submission                            5847 non-null object\n",
            "dtypes: float64(1), int64(2), object(5)\n",
            "memory usage: 365.6+ KB\n"
          ],
          "name": "stdout"
        }
      ]
    },
    {
      "cell_type": "markdown",
      "metadata": {
        "id": "cx0ezVG4uBlr",
        "colab_type": "text"
      },
      "source": [
        "#### Q.1 Since the most recent changes went live at the end of June 7th, how many students have accessed the site?"
      ]
    },
    {
      "cell_type": "code",
      "metadata": {
        "id": "5gEjMdvmuBlr",
        "colab_type": "code",
        "colab": {},
        "outputId": "fd6543c9-9a27-4d74-85d7-f69d7ca62485"
      },
      "source": [
        "cols = data1.columns\n",
        "print(cols)"
      ],
      "execution_count": 0,
      "outputs": [
        {
          "output_type": "stream",
          "text": [
            "Index(['Unnamed: 0', 'Unnamed: 1', 'Unnamed: 2', 'Definitions', '1-May-19',\n",
            "       '2-May-19', '3-May-19', '4-May-19', '5-May-19', '6-May-19', '7-May-19',\n",
            "       '8-May-19', '9-May-19', '10-May-19', '11-May-19', '12-May-19',\n",
            "       '13-May-19', '14-May-19', '15-May-19', '16-May-19', '17-May-19',\n",
            "       '18-May-19', '19-May-19', '20-May-19', '21-May-19', '22-May-19',\n",
            "       '23-May-19', '24-May-19', '25-May-19', '26-May-19', '27-May-19',\n",
            "       '28-May-19', '29-May-19', '30-May-19', '31-May-19', '1-Jun-19',\n",
            "       '2-Jun-19', '3-Jun-19', '4-Jun-19', '5-Jun-19', '6-Jun-19', '7-Jun-19',\n",
            "       '8-Jun-19', '9-Jun-19', '10-Jun-19', '11-Jun-19', '12-Jun-19',\n",
            "       '13-Jun-19', '14-Jun-19', 'Unnamed: 49'],\n",
            "      dtype='object')\n"
          ],
          "name": "stdout"
        }
      ]
    },
    {
      "cell_type": "code",
      "metadata": {
        "id": "8Rhg2cgguBlu",
        "colab_type": "code",
        "colab": {}
      },
      "source": [
        "# our target is to find how many students have accessed the site between 8 june 19 and 14 june 19\n",
        "ls = data1.iloc[0].values  #first row of dataset (number of individual accessed the site)\n",
        "num_students = np.sum(ls[42:49].astype(int)) #between 8-jun-19 and 14-jun-19"
      ],
      "execution_count": 0,
      "outputs": []
    },
    {
      "cell_type": "code",
      "metadata": {
        "id": "Aw2CY8dIuBlx",
        "colab_type": "code",
        "colab": {},
        "outputId": "41af6ca4-bd72-4bbb-8b7a-094b7337b669"
      },
      "source": [
        "print(num_students)"
      ],
      "execution_count": 0,
      "outputs": [
        {
          "output_type": "stream",
          "text": [
            "1099\n"
          ],
          "name": "stdout"
        }
      ]
    },
    {
      "cell_type": "markdown",
      "metadata": {
        "id": "JUMk7l7OuBl2",
        "colab_type": "text"
      },
      "source": [
        "So, 1099 students have visited the site since modification in site, which is at the end of 7-jun-19"
      ]
    },
    {
      "cell_type": "markdown",
      "metadata": {
        "id": "GueW-FknuBl2",
        "colab_type": "text"
      },
      "source": [
        "#### Q.2 I had an email from the Student Support Team at UAN – apparently their students are having problems with the site? Can you see if there’s a particular problem there please?"
      ]
    },
    {
      "cell_type": "code",
      "metadata": {
        "id": "x8jaX556uBl3",
        "colab_type": "code",
        "colab": {},
        "outputId": "35c15e27-0c40-4a97-d93d-267180698650"
      },
      "source": [
        "data2.head()"
      ],
      "execution_count": 0,
      "outputs": [
        {
          "output_type": "execute_result",
          "data": {
            "text/html": [
              "<div>\n",
              "<style scoped>\n",
              "    .dataframe tbody tr th:only-of-type {\n",
              "        vertical-align: middle;\n",
              "    }\n",
              "\n",
              "    .dataframe tbody tr th {\n",
              "        vertical-align: top;\n",
              "    }\n",
              "\n",
              "    .dataframe thead th {\n",
              "        text-align: right;\n",
              "    }\n",
              "</style>\n",
              "<table border=\"1\" class=\"dataframe\">\n",
              "  <thead>\n",
              "    <tr style=\"text-align: right;\">\n",
              "      <th></th>\n",
              "      <th>Log-In date</th>\n",
              "      <th>Student login ID</th>\n",
              "      <th>University</th>\n",
              "      <th>Logged-in duration</th>\n",
              "      <th>Timed out due to dormancy</th>\n",
              "      <th>Documents Uploaded (Number)</th>\n",
              "      <th>Documents Uploaded (file size, Mb)</th>\n",
              "      <th>Submission</th>\n",
              "    </tr>\n",
              "  </thead>\n",
              "  <tbody>\n",
              "    <tr>\n",
              "      <th>0</th>\n",
              "      <td>5/1/2019</td>\n",
              "      <td>6563</td>\n",
              "      <td>TSU</td>\n",
              "      <td>01:38:17</td>\n",
              "      <td>No</td>\n",
              "      <td>0</td>\n",
              "      <td>0.00</td>\n",
              "      <td>No</td>\n",
              "    </tr>\n",
              "    <tr>\n",
              "      <th>1</th>\n",
              "      <td>5/1/2019</td>\n",
              "      <td>23287</td>\n",
              "      <td>RU</td>\n",
              "      <td>00:50:44</td>\n",
              "      <td>Yes</td>\n",
              "      <td>0</td>\n",
              "      <td>0.00</td>\n",
              "      <td>No</td>\n",
              "    </tr>\n",
              "    <tr>\n",
              "      <th>2</th>\n",
              "      <td>5/1/2019</td>\n",
              "      <td>82074664</td>\n",
              "      <td>ILU</td>\n",
              "      <td>01:03:12</td>\n",
              "      <td>Yes</td>\n",
              "      <td>4</td>\n",
              "      <td>13.82</td>\n",
              "      <td>Yes</td>\n",
              "    </tr>\n",
              "    <tr>\n",
              "      <th>3</th>\n",
              "      <td>5/1/2019</td>\n",
              "      <td>426932</td>\n",
              "      <td>Le Dean College</td>\n",
              "      <td>00:36:27</td>\n",
              "      <td>Yes</td>\n",
              "      <td>1</td>\n",
              "      <td>12.94</td>\n",
              "      <td>Yes</td>\n",
              "    </tr>\n",
              "    <tr>\n",
              "      <th>4</th>\n",
              "      <td>5/1/2019</td>\n",
              "      <td>42189</td>\n",
              "      <td>RU</td>\n",
              "      <td>00:47:21</td>\n",
              "      <td>No</td>\n",
              "      <td>2</td>\n",
              "      <td>9.26</td>\n",
              "      <td>Yes</td>\n",
              "    </tr>\n",
              "  </tbody>\n",
              "</table>\n",
              "</div>"
            ],
            "text/plain": [
              "  Log-In date  Student login ID        University Logged-in duration  \\\n",
              "0    5/1/2019               6563              TSU           01:38:17   \n",
              "1    5/1/2019              23287               RU           00:50:44   \n",
              "2    5/1/2019           82074664              ILU           01:03:12   \n",
              "3    5/1/2019             426932  Le Dean College           00:36:27   \n",
              "4    5/1/2019              42189               RU           00:47:21   \n",
              "\n",
              "  Timed out due to dormancy  Documents Uploaded (Number)  \\\n",
              "0                        No                            0   \n",
              "1                       Yes                            0   \n",
              "2                       Yes                            4   \n",
              "3                       Yes                            1   \n",
              "4                        No                            2   \n",
              "\n",
              "   Documents Uploaded (file size, Mb) Submission  \n",
              "0                                0.00         No  \n",
              "1                                0.00         No  \n",
              "2                               13.82        Yes  \n",
              "3                               12.94        Yes  \n",
              "4                                9.26        Yes  "
            ]
          },
          "metadata": {
            "tags": []
          },
          "execution_count": 24
        }
      ]
    },
    {
      "cell_type": "code",
      "metadata": {
        "id": "CGIoknk2uBl5",
        "colab_type": "code",
        "colab": {}
      },
      "source": [
        "uan_data = data2[data2['University'] == 'UAN']"
      ],
      "execution_count": 0,
      "outputs": []
    },
    {
      "cell_type": "code",
      "metadata": {
        "id": "TiokM-67uBl8",
        "colab_type": "code",
        "colab": {},
        "outputId": "1a6903d9-b7cb-4c85-ef2e-95743d90de1d"
      },
      "source": [
        "uan_data"
      ],
      "execution_count": 0,
      "outputs": [
        {
          "output_type": "execute_result",
          "data": {
            "text/html": [
              "<div>\n",
              "<style scoped>\n",
              "    .dataframe tbody tr th:only-of-type {\n",
              "        vertical-align: middle;\n",
              "    }\n",
              "\n",
              "    .dataframe tbody tr th {\n",
              "        vertical-align: top;\n",
              "    }\n",
              "\n",
              "    .dataframe thead th {\n",
              "        text-align: right;\n",
              "    }\n",
              "</style>\n",
              "<table border=\"1\" class=\"dataframe\">\n",
              "  <thead>\n",
              "    <tr style=\"text-align: right;\">\n",
              "      <th></th>\n",
              "      <th>Log-In date</th>\n",
              "      <th>Student login ID</th>\n",
              "      <th>University</th>\n",
              "      <th>Logged-in duration</th>\n",
              "      <th>Timed out due to dormancy</th>\n",
              "      <th>Documents Uploaded (Number)</th>\n",
              "      <th>Documents Uploaded (file size, Mb)</th>\n",
              "      <th>Submission</th>\n",
              "    </tr>\n",
              "  </thead>\n",
              "  <tbody>\n",
              "    <tr>\n",
              "      <th>220</th>\n",
              "      <td>5/2/2019</td>\n",
              "      <td>1672705</td>\n",
              "      <td>UAN</td>\n",
              "      <td>01:59:31</td>\n",
              "      <td>No</td>\n",
              "      <td>0</td>\n",
              "      <td>0.00</td>\n",
              "      <td>No</td>\n",
              "    </tr>\n",
              "    <tr>\n",
              "      <th>3509</th>\n",
              "      <td>5/28/2019</td>\n",
              "      <td>1917311</td>\n",
              "      <td>UAN</td>\n",
              "      <td>01:17:50</td>\n",
              "      <td>No</td>\n",
              "      <td>0</td>\n",
              "      <td>0.00</td>\n",
              "      <td>No</td>\n",
              "    </tr>\n",
              "    <tr>\n",
              "      <th>4267</th>\n",
              "      <td>6/3/2019</td>\n",
              "      <td>1002005</td>\n",
              "      <td>UAN</td>\n",
              "      <td>00:53:18</td>\n",
              "      <td>No</td>\n",
              "      <td>0</td>\n",
              "      <td>0.00</td>\n",
              "      <td>No</td>\n",
              "    </tr>\n",
              "    <tr>\n",
              "      <th>5436</th>\n",
              "      <td>6/11/2019</td>\n",
              "      <td>5304074</td>\n",
              "      <td>UAN</td>\n",
              "      <td>00:38:56</td>\n",
              "      <td>No</td>\n",
              "      <td>9</td>\n",
              "      <td>9.74</td>\n",
              "      <td>Yes</td>\n",
              "    </tr>\n",
              "    <tr>\n",
              "      <th>5558</th>\n",
              "      <td>6/12/2019</td>\n",
              "      <td>2727225</td>\n",
              "      <td>UAN</td>\n",
              "      <td>00:21:19</td>\n",
              "      <td>No</td>\n",
              "      <td>7</td>\n",
              "      <td>12.35</td>\n",
              "      <td>Yes</td>\n",
              "    </tr>\n",
              "    <tr>\n",
              "      <th>5722</th>\n",
              "      <td>6/14/2019</td>\n",
              "      <td>9742822</td>\n",
              "      <td>UAN</td>\n",
              "      <td>01:57:29</td>\n",
              "      <td>No</td>\n",
              "      <td>7</td>\n",
              "      <td>6.84</td>\n",
              "      <td>Yes</td>\n",
              "    </tr>\n",
              "    <tr>\n",
              "      <th>5820</th>\n",
              "      <td>6/14/2019</td>\n",
              "      <td>8052184</td>\n",
              "      <td>UAN</td>\n",
              "      <td>01:38:48</td>\n",
              "      <td>No</td>\n",
              "      <td>15</td>\n",
              "      <td>14.36</td>\n",
              "      <td>Yes</td>\n",
              "    </tr>\n",
              "  </tbody>\n",
              "</table>\n",
              "</div>"
            ],
            "text/plain": [
              "     Log-In date  Student login ID  University Logged-in duration  \\\n",
              "220     5/2/2019            1672705        UAN           01:59:31   \n",
              "3509   5/28/2019            1917311        UAN           01:17:50   \n",
              "4267    6/3/2019            1002005        UAN           00:53:18   \n",
              "5436   6/11/2019            5304074        UAN           00:38:56   \n",
              "5558   6/12/2019            2727225        UAN           00:21:19   \n",
              "5722   6/14/2019            9742822        UAN           01:57:29   \n",
              "5820   6/14/2019            8052184        UAN           01:38:48   \n",
              "\n",
              "     Timed out due to dormancy  Documents Uploaded (Number)  \\\n",
              "220                         No                            0   \n",
              "3509                        No                            0   \n",
              "4267                        No                            0   \n",
              "5436                        No                            9   \n",
              "5558                        No                            7   \n",
              "5722                        No                            7   \n",
              "5820                        No                           15   \n",
              "\n",
              "      Documents Uploaded (file size, Mb) Submission  \n",
              "220                                 0.00         No  \n",
              "3509                                0.00         No  \n",
              "4267                                0.00         No  \n",
              "5436                                9.74        Yes  \n",
              "5558                               12.35        Yes  \n",
              "5722                                6.84        Yes  \n",
              "5820                               14.36        Yes  "
            ]
          },
          "metadata": {
            "tags": []
          },
          "execution_count": 27
        }
      ]
    },
    {
      "cell_type": "markdown",
      "metadata": {
        "id": "_tiMA3dZuBl_",
        "colab_type": "text"
      },
      "source": [
        "As you can see, there is no time out due ti dormancy and there is also not a problem of document submission. So, from this data, we can't find problems faced by UAN students."
      ]
    },
    {
      "cell_type": "markdown",
      "metadata": {
        "id": "-jQgJGFauBl_",
        "colab_type": "text"
      },
      "source": [
        "#### Q.3 The previous claim journey was time-consuming, and a lot of students were abandoning it partway through. Are we seeing fewer 'abandoned' claims, and has the average interaction time for a successful, completed claim journey now dropped?"
      ]
    },
    {
      "cell_type": "code",
      "metadata": {
        "id": "Cm3m6YAbuBmA",
        "colab_type": "code",
        "colab": {},
        "outputId": "83f16b40-4977-4fcc-a487-2f0941c03c65"
      },
      "source": [
        "data1['Definitions'].values"
      ],
      "execution_count": 0,
      "outputs": [
        {
          "output_type": "execute_result",
          "data": {
            "text/plain": [
              "array(['Individual visits to overall site, including repeats from the same IP',\n",
              "       'Number of students who access landing page and do not progress further',\n",
              "       'Number of visits from unique IPs',\n",
              "       'Average number of pages accessed per log-in',\n",
              "       'Percentage of submissions that are successful',\n",
              "       'Number of individual visits to log-in screen, including repeats from the same IP',\n",
              "       'Average time spent on page per log-in',\n",
              "       'Percentage of users who are logged out of portal due to time spent dormant on home screen',\n",
              "       'Number of students who access log-in screen and do not progress further',\n",
              "       'Number of individual visits to home screen, including repeats from the same IP',\n",
              "       'Average time users spend on page for each submission attempt',\n",
              "       'Percentage of users who are logged out of portal due to time spent dormant on home screen',\n",
              "       'Number of visits to Homescreen from unique IPs',\n",
              "       'Number of individual visits to Personal Details screen, including repeats from the same IP',\n",
              "       'Average time users spend on page for each submission attempt',\n",
              "       'Percentage of users who are logged out of portal due to time spent dormant on personal details screen',\n",
              "       'Number of visits to Personal Details screen from unique IPs',\n",
              "       \"Percentage of attempted 'Next' clicks that are denied due to errors in user inputs \",\n",
              "       'Individual visits to home screen, including repeats from the same IP',\n",
              "       'Average time users spend on page for each submission attempt',\n",
              "       'Percentage of users who are logged out of portal due to time spent dormant on expense items screen',\n",
              "       'Number of visits to Expense Items screen from unique IPs',\n",
              "       'Average number of documents uploaded per submission',\n",
              "       'Average total size of average users document uploads per submission (MBs)',\n",
              "       \"Percentage of attempted 'Submit' clicks that are denied due to errors in user inputs \",\n",
              "       'Individual visits to home screen, including repeats from the same IP',\n",
              "       'Average time spent on page per log-in',\n",
              "       'Average number of log-ins that do not progress due to dormancy on home screen',\n",
              "       'Number of visits to Expense Items screen from unique IPs',\n",
              "       \"Percentage of attempted 'Return to Home' clicks that are denied due to errors in user inputs \"],\n",
              "      dtype=object)"
            ]
          },
          "metadata": {
            "tags": []
          },
          "execution_count": 30
        }
      ]
    },
    {
      "cell_type": "code",
      "metadata": {
        "id": "_pLBM2sguBmC",
        "colab_type": "code",
        "colab": {}
      },
      "source": [
        ""
      ],
      "execution_count": 0,
      "outputs": []
    }
  ]
}